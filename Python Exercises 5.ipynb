{
 "cells": [
  {
   "cell_type": "code",
   "execution_count": 9,
   "id": "acb42ec4",
   "metadata": {},
   "outputs": [
    {
     "name": "stdout",
     "output_type": "stream",
     "text": [
      "enter a number24\n",
      "enter a number36\n",
      "72\n"
     ]
    }
   ],
   "source": [
    "# Write a Python Program to Find LCM?\n",
    "a = int(input(\"enter a number\"))\n",
    "b = int(input(\"enter a number\"))\n",
    "\n",
    "h = a if a > b else b\n",
    "    \n",
    "while True:\n",
    "    if (h%a==0) and (h%b==0):\n",
    "        break\n",
    "    else:\n",
    "        h += 1\n",
    "            \n",
    "print(h)"
   ]
  },
  {
   "cell_type": "code",
   "execution_count": 14,
   "id": "9d3a5eeb",
   "metadata": {},
   "outputs": [
    {
     "name": "stdout",
     "output_type": "stream",
     "text": [
      "enter a number53\n",
      "enter a number33\n",
      "1\n"
     ]
    }
   ],
   "source": [
    "# Write a Python Program to Find HCF?\n",
    "a = int(input(\"enter a number\"))\n",
    "b = int(input(\"enter a number\"))\n",
    "\n",
    "l = a if a < b else b\n",
    "    \n",
    "for i in range(1,l):\n",
    "    if (a%i==0) and (b%i==0):\n",
    "        x = i\n",
    "            \n",
    "print(x)"
   ]
  },
  {
   "cell_type": "code",
   "execution_count": 17,
   "id": "fc2eccde",
   "metadata": {},
   "outputs": [
    {
     "name": "stdout",
     "output_type": "stream",
     "text": [
      "enter a number9\n",
      "0b1001\n",
      "0o11\n",
      "0x9\n"
     ]
    }
   ],
   "source": [
    "#Write a Python Program to Convert Decimal to Binary, Octal and Hexadecimal?\n",
    "\n",
    "num = int(input(\"enter a number\"))\n",
    "print(bin(num))\n",
    "print(oct(num))\n",
    "print(hex(num))"
   ]
  },
  {
   "cell_type": "code",
   "execution_count": 23,
   "id": "3de16d87",
   "metadata": {},
   "outputs": [
    {
     "name": "stdout",
     "output_type": "stream",
     "text": [
      "enter a character: H\n",
      "72\n"
     ]
    }
   ],
   "source": [
    "#Write a Python Program To Find ASCII value of a character?\n",
    "\n",
    "cha = input(\"enter a character: \")\n",
    "print(ord(cha))"
   ]
  },
  {
   "cell_type": "code",
   "execution_count": 24,
   "id": "fa12f8af",
   "metadata": {},
   "outputs": [
    {
     "name": "stdout",
     "output_type": "stream",
     "text": [
      "enter a number3\n",
      "enter a number4\n",
      "Addition is 7 \n",
      "Subtraction is -1 \n",
      "multiplication is 12 \n",
      "Division is 0.75 \n"
     ]
    }
   ],
   "source": [
    "#Write a Python Program to Make a Simple Calculator with 4 basic mathematical operations?\n",
    "\n",
    "a = int(input(\"enter a number\"))\n",
    "b = int(input(\"enter a number\"))\n",
    "\n",
    "add = a + b\n",
    "sub = a - b\n",
    "mul = a * b\n",
    "div = a/b\n",
    "\n",
    "print(\"Addition is {} \".format(add))\n",
    "print(\"Subtraction is {} \".format(sub))\n",
    "print(\"multiplication is {} \".format(mul))\n",
    "print(\"Division is {} \".format(div))"
   ]
  }
 ],
 "metadata": {
  "kernelspec": {
   "display_name": "Python 3 (ipykernel)",
   "language": "python",
   "name": "python3"
  },
  "language_info": {
   "codemirror_mode": {
    "name": "ipython",
    "version": 3
   },
   "file_extension": ".py",
   "mimetype": "text/x-python",
   "name": "python",
   "nbconvert_exporter": "python",
   "pygments_lexer": "ipython3",
   "version": "3.9.7"
  }
 },
 "nbformat": 4,
 "nbformat_minor": 5
}
