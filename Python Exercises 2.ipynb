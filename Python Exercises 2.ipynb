{
 "cells": [
  {
   "cell_type": "code",
   "execution_count": 2,
   "id": "7e36d677",
   "metadata": {},
   "outputs": [
    {
     "name": "stdout",
     "output_type": "stream",
     "text": [
      "enter kms value10\n",
      "6.215040397762586\n"
     ]
    }
   ],
   "source": [
    "#Write a Python program to convert kilometers to miles?\n",
    "km = int(input(\"enter kms value\"))\n",
    "miles = km/1.609\n",
    "print(miles)"
   ]
  },
  {
   "cell_type": "code",
   "execution_count": 9,
   "id": "c69d4ad4",
   "metadata": {},
   "outputs": [
    {
     "name": "stdout",
     "output_type": "stream",
     "text": [
      "enter cel value12\n",
      "53.6\n"
     ]
    }
   ],
   "source": [
    "#Write a Python program to convert Celsius to Fahrenheit?\n",
    "cel = float(input(\"enter cel value\"))\n",
    "fah = (cel*1.8) + 32\n",
    "print(fah)"
   ]
  },
  {
   "cell_type": "code",
   "execution_count": 12,
   "id": "f81c8f95",
   "metadata": {},
   "outputs": [
    {
     "name": "stdout",
     "output_type": "stream",
     "text": [
      "    October 2022\n",
      "Mo Tu We Th Fr Sa Su\n",
      "                1  2\n",
      " 3  4  5  6  7  8  9\n",
      "10 11 12 13 14 15 16\n",
      "17 18 19 20 21 22 23\n",
      "24 25 26 27 28 29 30\n",
      "31\n",
      "\n"
     ]
    }
   ],
   "source": [
    "#Write a Python program to display calendar?\n",
    "import calendar\n",
    "\n",
    "year = 2022\n",
    "month = 10\n",
    "print(calendar.month(year,month))"
   ]
  },
  {
   "cell_type": "code",
   "execution_count": 16,
   "id": "1b99bd72",
   "metadata": {},
   "outputs": [
    {
     "name": "stdout",
     "output_type": "stream",
     "text": [
      "ax^2 + bx^1 + c = 0\n",
      "enter a number1\n",
      "enter b number-10\n",
      "enter c number20\n",
      "7.23606797749979 2.76393202250021\n"
     ]
    }
   ],
   "source": [
    "#Write a Python program to solve quadratic equation?\n",
    "import math\n",
    "\n",
    "print(\"ax^2 + bx^1 + c = 0\")\n",
    "\n",
    "\n",
    "a = int(input(\"enter a number\"))\n",
    "b = int(input(\"enter b number\"))\n",
    "c = int(input(\"enter c number\"))\n",
    "\n",
    "d = (b**2) - (4*a*c)\n",
    "\n",
    "root1 = ((-1*b)+(math.sqrt(d))) / (2*a)\n",
    "root2 = ((-1*b)-(math.sqrt(d))) / (2*a)\n",
    "\n",
    "print(root1,root2)"
   ]
  },
  {
   "cell_type": "code",
   "execution_count": 18,
   "id": "acc4346a",
   "metadata": {},
   "outputs": [
    {
     "name": "stdout",
     "output_type": "stream",
     "text": [
      "enter a number10\n",
      "enter a number20\n",
      "20 10\n"
     ]
    }
   ],
   "source": [
    "#Write a Python program to swap two variables without temp variable?\n",
    "a=int(input(\"enter a number\"))\n",
    "b=int(input(\"enter a number\"))\n",
    "\n",
    "a=a+b\n",
    "b=a-b\n",
    "a=a-b\n",
    "\n",
    "print(a,b)"
   ]
  }
 ],
 "metadata": {
  "kernelspec": {
   "display_name": "Python 3 (ipykernel)",
   "language": "python",
   "name": "python3"
  },
  "language_info": {
   "codemirror_mode": {
    "name": "ipython",
    "version": 3
   },
   "file_extension": ".py",
   "mimetype": "text/x-python",
   "name": "python",
   "nbconvert_exporter": "python",
   "pygments_lexer": "ipython3",
   "version": "3.9.7"
  }
 },
 "nbformat": 4,
 "nbformat_minor": 5
}
